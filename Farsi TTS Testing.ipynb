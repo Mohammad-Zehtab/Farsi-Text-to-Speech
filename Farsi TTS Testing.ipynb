{
  "cells": [
    {
      "cell_type": "code",
      "execution_count": null,
      "metadata": {
        "colab": {
          "base_uri": "https://localhost:8080/"
        },
        "id": "4EzdErRwBp7S",
        "outputId": "45eb838d-0346-439f-8b5f-aa726d8d2670"
      },
      "outputs": [],
      "source": [
        "# Importing required libraries and modules\n",
        "import logging\n",
        "import os\n",
        "import tensorflow as tf\n",
        "import IPython.display as ipd\n",
        "\n",
        "os.environ[\"CUDA_VISIBLE_DEVICES\"] = \"\"\n",
        "logging.basicConfig(\n",
        "    level=logging.DEBUG,\n",
        "    format=\"%(asctime)s (%(module)s:%(lineno)d) %(levelname)s: %(message)s\",\n",
        ")\n",
        "\n",
        "# Initialize a TTS processor and save it to a different location\n",
        "processor = AutoProcessor.from_pretrained(\"./TensorFlowTTS/dump/ljspeech_mapper.json\")\n",
        "processor.save_pretrained(\"./test_saved\")\n",
        "processor = AutoProcessor.from_pretrained(\"./test_saved/processor.json\")\n",
        "\n",
        "# Initialize a TTS model (Tacotron2) \n",
        "config = AutoConfig.from_pretrained(\"./TensorFlowTTS/examples/tacotron2/conf/tacotron2.v1.yaml\")\n",
        "tacotron2 = TFAutoModel.from_pretrained(pretrained_path=None, config=config)\n",
        "\n",
        "\n",
        "config.save_pretrained(\"./test_saved\")\n",
        "tacotron2.save_pretrained(\"./test_saved\")\n",
        "\n",
        "#loading pretrained configuration and model\n",
        "config = AutoConfig.from_pretrained(\"./Trained Model/config.yml\")\n",
        "tacotron2 = TFAutoModel.from_pretrained(\"./Trained Model/checkpoints/model-50000.h5\", config=config)\n",
        "\n",
        "# Initialize a vocoder model (MelGAN) using a pretrained model\n",
        "melgan = TFAutoModel.from_pretrained(\"tensorspeech/tts-melgan-ljspeech-en\", name=\"melgan\")\n",
        "\n",
        "# Initialize a TTS processor for text-to-speech conversion\n",
        "processor = AutoProcessor.from_pretrained(\"tensorspeech/tts-tacotron2-ljspeech-en\")\n",
        "\n",
        "# Define a function to convert text to speech\n",
        "def text2speech(input_text, text2mel_model, vocoder_model):\n",
        "    # Convert input text to sequence of phonemes\n",
        "    input_ids = processor.text_to_sequence(input_text)\n",
        "\n",
        "    # Generate mel spectrograms, stop token predictions, and alignment history using the text2mel model\n",
        "    _, mel_outputs, stop_token_prediction, alignment_history = text2mel_model.inference(\n",
        "        tf.expand_dims(tf.convert_to_tensor(input_ids, dtype=tf.int32), 0),\n",
        "        tf.convert_to_tensor([len(input_ids)], tf.int32),\n",
        "        tf.convert_to_tensor([0], dtype=tf.int32)\n",
        "    )\n",
        "\n",
        "    # Generate audio using the vocoder model from mel spectrograms\n",
        "    audio = vocoder_model(mel_outputs)[0, :, 0]\n",
        "    \n",
        "    return mel_outputs.numpy(), alignment_history.numpy(), audio.numpy()\n",
        "\n",
        "# Example input text in Persian\n",
        "story = \"سلام بر شما\"\n",
        "\n",
        "# Use the text2speech function to generate mel spectrograms and audio\n",
        "mels, alignment_history, audios = text2speech(story, tacotron2, melgan)\n",
        "\n",
        "# Play the generated audio with a specified sampling rate\n",
        "ipd.Audio(audios, rate=22050)\n"
      ]
    }
  ],
  "metadata": {
    "accelerator": "GPU",
    "colab": {
      "gpuType": "T4",
      "provenance": []
    },
    "kernelspec": {
      "display_name": "Python 3",
      "name": "python3"
    },
    "language_info": {
      "codemirror_mode": {
        "name": "ipython",
        "version": 3
      },
      "file_extension": ".py",
      "mimetype": "text/x-python",
      "name": "python",
      "nbconvert_exporter": "python",
      "pygments_lexer": "ipython3",
      "version": "3.8.17"
    }
  },
  "nbformat": 4,
  "nbformat_minor": 0
}
